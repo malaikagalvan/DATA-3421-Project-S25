{
 "cells": [
  {
   "cell_type": "code",
   "execution_count": 1,
   "id": "66bbfb4d-98f0-475c-a4cb-d08ae09fc031",
   "metadata": {},
   "outputs": [],
   "source": [
    "import numpy as np\n",
    "import pandas as pd\n",
    "import seaborn as sns\n",
    "import matplotlib.pyplot as plt"
   ]
  },
  {
   "cell_type": "code",
   "execution_count": 2,
   "id": "973abeb9-d5e7-48e8-a409-dcff44513461",
   "metadata": {},
   "outputs": [],
   "source": [
    "# loading the raw data\n",
    "df = pd.read_csv('Chicago_Crimes_2012_to_2017.csv')"
   ]
  },
  {
   "cell_type": "code",
   "execution_count": 3,
   "id": "36d6f5af-d8ba-488a-9982-069a7cb5ac50",
   "metadata": {},
   "outputs": [
    {
     "data": {
      "text/plain": [
       "Unnamed: 0                  0\n",
       "ID                          0\n",
       "Case Number                 1\n",
       "Date                        0\n",
       "Block                       0\n",
       "IUCR                        0\n",
       "Primary Type                0\n",
       "Description                 0\n",
       "Location Description     1658\n",
       "Arrest                      0\n",
       "Domestic                    0\n",
       "Beat                        0\n",
       "District                    1\n",
       "Ward                       14\n",
       "Community Area             40\n",
       "FBI Code                    0\n",
       "X Coordinate            37083\n",
       "Y Coordinate            37083\n",
       "Year                        0\n",
       "Updated On                  0\n",
       "Latitude                37083\n",
       "Longitude               37083\n",
       "Location                37083\n",
       "dtype: int64"
      ]
     },
     "execution_count": 3,
     "metadata": {},
     "output_type": "execute_result"
    }
   ],
   "source": [
    "# checking for missing values\n",
    "df_missing = df.isnull().sum()\n",
    "df_missing"
   ]
  },
  {
   "cell_type": "code",
   "execution_count": 4,
   "id": "9d53bc8a-f612-4b62-bff1-73124583d7fb",
   "metadata": {},
   "outputs": [
    {
     "data": {
      "text/plain": [
       "(1456714, 23)"
      ]
     },
     "execution_count": 4,
     "metadata": {},
     "output_type": "execute_result"
    }
   ],
   "source": [
    "# checking the size of the data\n",
    "df.shape"
   ]
  },
  {
   "cell_type": "code",
   "execution_count": 5,
   "id": "67fcaed6-2019-499f-9f5a-15e0979793be",
   "metadata": {},
   "outputs": [
    {
     "data": {
      "text/plain": [
       "Unnamed: 0              0\n",
       "ID                      0\n",
       "Case Number             0\n",
       "Date                    0\n",
       "Block                   0\n",
       "IUCR                    0\n",
       "Primary Type            0\n",
       "Description             0\n",
       "Location Description    0\n",
       "Arrest                  0\n",
       "Domestic                0\n",
       "Beat                    0\n",
       "District                0\n",
       "Ward                    0\n",
       "Community Area          0\n",
       "FBI Code                0\n",
       "X Coordinate            0\n",
       "Y Coordinate            0\n",
       "Year                    0\n",
       "Updated On              0\n",
       "Latitude                0\n",
       "Longitude               0\n",
       "Location                0\n",
       "dtype: int64"
      ]
     },
     "execution_count": 5,
     "metadata": {},
     "output_type": "execute_result"
    }
   ],
   "source": [
    "# since we're working with such a large dataset, I feel comfortable getting rid of the rows with any missing data\n",
    "# we would still have well over 1 mil. rows of data to work with\n",
    "df = df.dropna(axis = 0, how='any')\n",
    "df_new_missing = df.isnull().sum()\n",
    "df_new_missing"
   ]
  },
  {
   "cell_type": "code",
   "execution_count": 6,
   "id": "6b2c4ff6-f463-4a98-9441-f3a9b71f319d",
   "metadata": {},
   "outputs": [
    {
     "data": {
      "text/plain": [
       "(1418365, 23)"
      ]
     },
     "execution_count": 6,
     "metadata": {},
     "output_type": "execute_result"
    }
   ],
   "source": [
    "# checking the shape again, just to make sure we're still working with a healthy dataset\n",
    "df.shape"
   ]
  },
  {
   "cell_type": "code",
   "execution_count": 7,
   "id": "86d132a7-51df-4b05-8d7d-0d30050b62fd",
   "metadata": {},
   "outputs": [],
   "source": [
    "# getting rid of any unecessary/redundant features\n",
    "# i want to get rid of 'Unnamed: 0', 'ID', 'Case Number', 'Date', 'Description', 'Updated On', 'Location', 'Primary Type'\n",
    "# 'Unnamed: 0', 'ID', 'Case Number' are all just identifiers, which might not be necessary, but i don't mind keeping 'ID'\n",
    "# the other features seem a bit too specific, and might make it difficult, but I can also see their importance in predicting crime\n",
    "# 'Primary Type' is describing the crime, but IUCR is the code for the crime, which makes it a bit redundant to have both"
   ]
  },
  {
   "cell_type": "code",
   "execution_count": 8,
   "id": "35622fb8-16d5-4ad8-979b-de55bbf0a2f0",
   "metadata": {},
   "outputs": [],
   "source": [
    "# sorting into categories of data\n",
    "categorical = df[['Block','Primary Type', 'Description', 'Location Description', 'Arrest', 'Domestic', 'FBI Code']]\n",
    "numerical = df[['IUCR', 'Ward', 'District', 'Beat', 'Community Area', 'Year']]\n",
    "dates = df[['Date', 'Updated On']]\n",
    "locations = df[['Latitude', 'Longitude', 'Location']]"
   ]
  },
  {
   "cell_type": "code",
   "execution_count": 9,
   "id": "a5312a46-cb78-42aa-976d-14023050166e",
   "metadata": {},
   "outputs": [],
   "source": [
    "# from here, i want to one-hot encode pretty much everything ? that we decide to keep from the above columns\n",
    "# different interations of each model could also include adjusting which features we remove, how they're encoded, etc. etc. :3"
   ]
  },
  {
   "cell_type": "code",
   "execution_count": 10,
   "id": "fbff68c6-8eee-4fb2-81d8-c1af69e4dab3",
   "metadata": {},
   "outputs": [],
   "source": [
    "# getting rid of unnamed: 0, ID, case number, updated on, description, lat, long, loc \n",
    "# target variable : community area\n",
    "# testing : block, IUCR, location description, beat, FBI Code, "
   ]
  },
  {
   "cell_type": "code",
   "execution_count": 11,
   "id": "f71475be-ca91-451c-83f1-8210234bd5f3",
   "metadata": {},
   "outputs": [
    {
     "data": {
      "text/plain": [
       "Index(['Unnamed: 0', 'ID', 'Case Number', 'Date', 'Block', 'IUCR',\n",
       "       'Primary Type', 'Description', 'Location Description', 'Arrest',\n",
       "       'Domestic', 'Beat', 'District', 'Ward', 'Community Area', 'FBI Code',\n",
       "       'X Coordinate', 'Y Coordinate', 'Year', 'Updated On', 'Latitude',\n",
       "       'Longitude', 'Location'],\n",
       "      dtype='object')"
      ]
     },
     "execution_count": 11,
     "metadata": {},
     "output_type": "execute_result"
    }
   ],
   "source": [
    "df.columns"
   ]
  },
  {
   "cell_type": "code",
   "execution_count": 12,
   "id": "d812e015-2810-4c5e-9d4d-aba67994968c",
   "metadata": {},
   "outputs": [],
   "source": [
    "# removing unwanted features\n",
    "columns_to_remove = ['Unnamed: 0', 'ID', 'Case Number', 'Updated On', 'Description', 'Latitude', 'Longitude', 'Location', \n",
    "                'X Coordinate', 'Y Coordinate']\n",
    "df = df.drop(columns = columns_to_remove)"
   ]
  },
  {
   "cell_type": "code",
   "execution_count": 13,
   "id": "751995e3-c027-44aa-b679-bbe6a4887878",
   "metadata": {
    "scrolled": true
   },
   "outputs": [
    {
     "data": {
      "text/html": [
       "<div>\n",
       "<style scoped>\n",
       "    .dataframe tbody tr th:only-of-type {\n",
       "        vertical-align: middle;\n",
       "    }\n",
       "\n",
       "    .dataframe tbody tr th {\n",
       "        vertical-align: top;\n",
       "    }\n",
       "\n",
       "    .dataframe thead th {\n",
       "        text-align: right;\n",
       "    }\n",
       "</style>\n",
       "<table border=\"1\" class=\"dataframe\">\n",
       "  <thead>\n",
       "    <tr style=\"text-align: right;\">\n",
       "      <th></th>\n",
       "      <th>Date</th>\n",
       "      <th>Block</th>\n",
       "      <th>IUCR</th>\n",
       "      <th>Primary Type</th>\n",
       "      <th>Location Description</th>\n",
       "      <th>Arrest</th>\n",
       "      <th>Domestic</th>\n",
       "      <th>Beat</th>\n",
       "      <th>District</th>\n",
       "      <th>Ward</th>\n",
       "      <th>Community Area</th>\n",
       "      <th>FBI Code</th>\n",
       "      <th>Year</th>\n",
       "    </tr>\n",
       "  </thead>\n",
       "  <tbody>\n",
       "    <tr>\n",
       "      <th>0</th>\n",
       "      <td>05/03/2016 11:40:00 PM</td>\n",
       "      <td>013XX S SAWYER AVE</td>\n",
       "      <td>0486</td>\n",
       "      <td>BATTERY</td>\n",
       "      <td>APARTMENT</td>\n",
       "      <td>True</td>\n",
       "      <td>True</td>\n",
       "      <td>1022</td>\n",
       "      <td>10.0</td>\n",
       "      <td>24.0</td>\n",
       "      <td>29.0</td>\n",
       "      <td>08B</td>\n",
       "      <td>2016</td>\n",
       "    </tr>\n",
       "    <tr>\n",
       "      <th>1</th>\n",
       "      <td>05/03/2016 09:40:00 PM</td>\n",
       "      <td>061XX S DREXEL AVE</td>\n",
       "      <td>0486</td>\n",
       "      <td>BATTERY</td>\n",
       "      <td>RESIDENCE</td>\n",
       "      <td>False</td>\n",
       "      <td>True</td>\n",
       "      <td>313</td>\n",
       "      <td>3.0</td>\n",
       "      <td>20.0</td>\n",
       "      <td>42.0</td>\n",
       "      <td>08B</td>\n",
       "      <td>2016</td>\n",
       "    </tr>\n",
       "    <tr>\n",
       "      <th>2</th>\n",
       "      <td>05/03/2016 11:31:00 PM</td>\n",
       "      <td>053XX W CHICAGO AVE</td>\n",
       "      <td>0470</td>\n",
       "      <td>PUBLIC PEACE VIOLATION</td>\n",
       "      <td>STREET</td>\n",
       "      <td>False</td>\n",
       "      <td>False</td>\n",
       "      <td>1524</td>\n",
       "      <td>15.0</td>\n",
       "      <td>37.0</td>\n",
       "      <td>25.0</td>\n",
       "      <td>24</td>\n",
       "      <td>2016</td>\n",
       "    </tr>\n",
       "    <tr>\n",
       "      <th>3</th>\n",
       "      <td>05/03/2016 10:10:00 PM</td>\n",
       "      <td>049XX W FULTON ST</td>\n",
       "      <td>0460</td>\n",
       "      <td>BATTERY</td>\n",
       "      <td>SIDEWALK</td>\n",
       "      <td>False</td>\n",
       "      <td>False</td>\n",
       "      <td>1532</td>\n",
       "      <td>15.0</td>\n",
       "      <td>28.0</td>\n",
       "      <td>25.0</td>\n",
       "      <td>08B</td>\n",
       "      <td>2016</td>\n",
       "    </tr>\n",
       "    <tr>\n",
       "      <th>4</th>\n",
       "      <td>05/03/2016 10:00:00 PM</td>\n",
       "      <td>003XX N LOTUS AVE</td>\n",
       "      <td>0820</td>\n",
       "      <td>THEFT</td>\n",
       "      <td>RESIDENCE</td>\n",
       "      <td>False</td>\n",
       "      <td>True</td>\n",
       "      <td>1523</td>\n",
       "      <td>15.0</td>\n",
       "      <td>28.0</td>\n",
       "      <td>25.0</td>\n",
       "      <td>06</td>\n",
       "      <td>2016</td>\n",
       "    </tr>\n",
       "  </tbody>\n",
       "</table>\n",
       "</div>"
      ],
      "text/plain": [
       "                     Date                Block  IUCR            Primary Type  \\\n",
       "0  05/03/2016 11:40:00 PM   013XX S SAWYER AVE  0486                 BATTERY   \n",
       "1  05/03/2016 09:40:00 PM   061XX S DREXEL AVE  0486                 BATTERY   \n",
       "2  05/03/2016 11:31:00 PM  053XX W CHICAGO AVE  0470  PUBLIC PEACE VIOLATION   \n",
       "3  05/03/2016 10:10:00 PM    049XX W FULTON ST  0460                 BATTERY   \n",
       "4  05/03/2016 10:00:00 PM    003XX N LOTUS AVE  0820                   THEFT   \n",
       "\n",
       "  Location Description  Arrest  Domestic  Beat  District  Ward  \\\n",
       "0            APARTMENT    True      True  1022      10.0  24.0   \n",
       "1            RESIDENCE   False      True   313       3.0  20.0   \n",
       "2               STREET   False     False  1524      15.0  37.0   \n",
       "3             SIDEWALK   False     False  1532      15.0  28.0   \n",
       "4            RESIDENCE   False      True  1523      15.0  28.0   \n",
       "\n",
       "   Community Area FBI Code  Year  \n",
       "0            29.0      08B  2016  \n",
       "1            42.0      08B  2016  \n",
       "2            25.0       24  2016  \n",
       "3            25.0      08B  2016  \n",
       "4            25.0       06  2016  "
      ]
     },
     "execution_count": 13,
     "metadata": {},
     "output_type": "execute_result"
    }
   ],
   "source": [
    "df.head()"
   ]
  },
  {
   "cell_type": "code",
   "execution_count": 14,
   "id": "204ec622-97e5-485f-a50a-a6f3daee1b4d",
   "metadata": {},
   "outputs": [
    {
     "name": "stderr",
     "output_type": "stream",
     "text": [
      "/var/folders/9k/71y7xhj15l520_zkknyyxqjh0000gn/T/ipykernel_66203/2257016651.py:2: UserWarning: Could not infer format, so each element will be parsed individually, falling back to `dateutil`. To ensure parsing is consistent and as-expected, please specify a format.\n",
      "  df['Date'] = pd.to_datetime(df['Date'])  # Convert to datetime objects\n"
     ]
    }
   ],
   "source": [
    "# adjusting date column to become two separate columns, date & time\n",
    "df['Date'] = pd.to_datetime(df['Date'])  # Convert to datetime objects\n",
    "\n",
    "df['Date_1'] = df['Date'].dt.date\n",
    "df['Time'] = df['Date'].dt.time"
   ]
  },
  {
   "cell_type": "code",
   "execution_count": 15,
   "id": "a383a5ad-241f-4e56-a753-bab9f201c8fe",
   "metadata": {},
   "outputs": [],
   "source": [
    "# removing the date feature, now that we have date and time - and renaming date_1 to date for clarity\n",
    "df = df.drop(columns = 'Date')\n",
    "\n",
    "df = df.rename(columns = {'Date_1' : 'Date'})"
   ]
  },
  {
   "cell_type": "code",
   "execution_count": 16,
   "id": "e19cc1ef-3005-48bb-89ec-b4fd117c7c1a",
   "metadata": {},
   "outputs": [
    {
     "data": {
      "text/html": [
       "<div>\n",
       "<style scoped>\n",
       "    .dataframe tbody tr th:only-of-type {\n",
       "        vertical-align: middle;\n",
       "    }\n",
       "\n",
       "    .dataframe tbody tr th {\n",
       "        vertical-align: top;\n",
       "    }\n",
       "\n",
       "    .dataframe thead th {\n",
       "        text-align: right;\n",
       "    }\n",
       "</style>\n",
       "<table border=\"1\" class=\"dataframe\">\n",
       "  <thead>\n",
       "    <tr style=\"text-align: right;\">\n",
       "      <th></th>\n",
       "      <th>Block</th>\n",
       "      <th>IUCR</th>\n",
       "      <th>Primary Type</th>\n",
       "      <th>Location Description</th>\n",
       "      <th>Arrest</th>\n",
       "      <th>Domestic</th>\n",
       "      <th>Beat</th>\n",
       "      <th>District</th>\n",
       "      <th>Ward</th>\n",
       "      <th>Community Area</th>\n",
       "      <th>FBI Code</th>\n",
       "      <th>Year</th>\n",
       "      <th>Date</th>\n",
       "      <th>Time</th>\n",
       "    </tr>\n",
       "  </thead>\n",
       "  <tbody>\n",
       "    <tr>\n",
       "      <th>0</th>\n",
       "      <td>013XX S SAWYER AVE</td>\n",
       "      <td>0486</td>\n",
       "      <td>BATTERY</td>\n",
       "      <td>APARTMENT</td>\n",
       "      <td>True</td>\n",
       "      <td>True</td>\n",
       "      <td>1022</td>\n",
       "      <td>10.0</td>\n",
       "      <td>24.0</td>\n",
       "      <td>29.0</td>\n",
       "      <td>08B</td>\n",
       "      <td>2016</td>\n",
       "      <td>2016-05-03</td>\n",
       "      <td>23:40:00</td>\n",
       "    </tr>\n",
       "    <tr>\n",
       "      <th>1</th>\n",
       "      <td>061XX S DREXEL AVE</td>\n",
       "      <td>0486</td>\n",
       "      <td>BATTERY</td>\n",
       "      <td>RESIDENCE</td>\n",
       "      <td>False</td>\n",
       "      <td>True</td>\n",
       "      <td>313</td>\n",
       "      <td>3.0</td>\n",
       "      <td>20.0</td>\n",
       "      <td>42.0</td>\n",
       "      <td>08B</td>\n",
       "      <td>2016</td>\n",
       "      <td>2016-05-03</td>\n",
       "      <td>21:40:00</td>\n",
       "    </tr>\n",
       "    <tr>\n",
       "      <th>2</th>\n",
       "      <td>053XX W CHICAGO AVE</td>\n",
       "      <td>0470</td>\n",
       "      <td>PUBLIC PEACE VIOLATION</td>\n",
       "      <td>STREET</td>\n",
       "      <td>False</td>\n",
       "      <td>False</td>\n",
       "      <td>1524</td>\n",
       "      <td>15.0</td>\n",
       "      <td>37.0</td>\n",
       "      <td>25.0</td>\n",
       "      <td>24</td>\n",
       "      <td>2016</td>\n",
       "      <td>2016-05-03</td>\n",
       "      <td>23:31:00</td>\n",
       "    </tr>\n",
       "    <tr>\n",
       "      <th>3</th>\n",
       "      <td>049XX W FULTON ST</td>\n",
       "      <td>0460</td>\n",
       "      <td>BATTERY</td>\n",
       "      <td>SIDEWALK</td>\n",
       "      <td>False</td>\n",
       "      <td>False</td>\n",
       "      <td>1532</td>\n",
       "      <td>15.0</td>\n",
       "      <td>28.0</td>\n",
       "      <td>25.0</td>\n",
       "      <td>08B</td>\n",
       "      <td>2016</td>\n",
       "      <td>2016-05-03</td>\n",
       "      <td>22:10:00</td>\n",
       "    </tr>\n",
       "    <tr>\n",
       "      <th>4</th>\n",
       "      <td>003XX N LOTUS AVE</td>\n",
       "      <td>0820</td>\n",
       "      <td>THEFT</td>\n",
       "      <td>RESIDENCE</td>\n",
       "      <td>False</td>\n",
       "      <td>True</td>\n",
       "      <td>1523</td>\n",
       "      <td>15.0</td>\n",
       "      <td>28.0</td>\n",
       "      <td>25.0</td>\n",
       "      <td>06</td>\n",
       "      <td>2016</td>\n",
       "      <td>2016-05-03</td>\n",
       "      <td>22:00:00</td>\n",
       "    </tr>\n",
       "  </tbody>\n",
       "</table>\n",
       "</div>"
      ],
      "text/plain": [
       "                 Block  IUCR            Primary Type Location Description  \\\n",
       "0   013XX S SAWYER AVE  0486                 BATTERY            APARTMENT   \n",
       "1   061XX S DREXEL AVE  0486                 BATTERY            RESIDENCE   \n",
       "2  053XX W CHICAGO AVE  0470  PUBLIC PEACE VIOLATION               STREET   \n",
       "3    049XX W FULTON ST  0460                 BATTERY             SIDEWALK   \n",
       "4    003XX N LOTUS AVE  0820                   THEFT            RESIDENCE   \n",
       "\n",
       "   Arrest  Domestic  Beat  District  Ward  Community Area FBI Code  Year  \\\n",
       "0    True      True  1022      10.0  24.0            29.0      08B  2016   \n",
       "1   False      True   313       3.0  20.0            42.0      08B  2016   \n",
       "2   False     False  1524      15.0  37.0            25.0       24  2016   \n",
       "3   False     False  1532      15.0  28.0            25.0      08B  2016   \n",
       "4   False      True  1523      15.0  28.0            25.0       06  2016   \n",
       "\n",
       "         Date      Time  \n",
       "0  2016-05-03  23:40:00  \n",
       "1  2016-05-03  21:40:00  \n",
       "2  2016-05-03  23:31:00  \n",
       "3  2016-05-03  22:10:00  \n",
       "4  2016-05-03  22:00:00  "
      ]
     },
     "execution_count": 16,
     "metadata": {},
     "output_type": "execute_result"
    }
   ],
   "source": [
    "df.head()"
   ]
  },
  {
   "cell_type": "code",
   "execution_count": 19,
   "id": "c7b7bf38-0250-4e2e-9916-bcd3903bcc88",
   "metadata": {},
   "outputs": [
    {
     "data": {
      "text/html": [
       "<div>\n",
       "<style scoped>\n",
       "    .dataframe tbody tr th:only-of-type {\n",
       "        vertical-align: middle;\n",
       "    }\n",
       "\n",
       "    .dataframe tbody tr th {\n",
       "        vertical-align: top;\n",
       "    }\n",
       "\n",
       "    .dataframe thead th {\n",
       "        text-align: right;\n",
       "    }\n",
       "</style>\n",
       "<table border=\"1\" class=\"dataframe\">\n",
       "  <thead>\n",
       "    <tr style=\"text-align: right;\">\n",
       "      <th></th>\n",
       "      <th>Block</th>\n",
       "      <th>IUCR</th>\n",
       "      <th>Primary Type</th>\n",
       "      <th>Location Description</th>\n",
       "      <th>Arrest</th>\n",
       "      <th>Domestic</th>\n",
       "      <th>Beat</th>\n",
       "      <th>District</th>\n",
       "      <th>Ward</th>\n",
       "      <th>Community Area</th>\n",
       "      <th>FBI Code</th>\n",
       "      <th>Year</th>\n",
       "      <th>Date</th>\n",
       "      <th>Time</th>\n",
       "    </tr>\n",
       "  </thead>\n",
       "  <tbody>\n",
       "    <tr>\n",
       "      <th>0</th>\n",
       "      <td>6452</td>\n",
       "      <td>51</td>\n",
       "      <td>2</td>\n",
       "      <td>17</td>\n",
       "      <td>1</td>\n",
       "      <td>True</td>\n",
       "      <td>1022</td>\n",
       "      <td>10.0</td>\n",
       "      <td>24.0</td>\n",
       "      <td>29.0</td>\n",
       "      <td>10</td>\n",
       "      <td>2016</td>\n",
       "      <td>2016-05-03</td>\n",
       "      <td>23:40:00</td>\n",
       "    </tr>\n",
       "    <tr>\n",
       "      <th>1</th>\n",
       "      <td>24340</td>\n",
       "      <td>51</td>\n",
       "      <td>2</td>\n",
       "      <td>109</td>\n",
       "      <td>0</td>\n",
       "      <td>True</td>\n",
       "      <td>313</td>\n",
       "      <td>3.0</td>\n",
       "      <td>20.0</td>\n",
       "      <td>42.0</td>\n",
       "      <td>10</td>\n",
       "      <td>2016</td>\n",
       "      <td>2016-05-03</td>\n",
       "      <td>21:40:00</td>\n",
       "    </tr>\n",
       "    <tr>\n",
       "      <th>2</th>\n",
       "      <td>21841</td>\n",
       "      <td>42</td>\n",
       "      <td>27</td>\n",
       "      <td>125</td>\n",
       "      <td>0</td>\n",
       "      <td>False</td>\n",
       "      <td>1524</td>\n",
       "      <td>15.0</td>\n",
       "      <td>37.0</td>\n",
       "      <td>25.0</td>\n",
       "      <td>24</td>\n",
       "      <td>2016</td>\n",
       "      <td>2016-05-03</td>\n",
       "      <td>23:31:00</td>\n",
       "    </tr>\n",
       "    <tr>\n",
       "      <th>3</th>\n",
       "      <td>20464</td>\n",
       "      <td>39</td>\n",
       "      <td>2</td>\n",
       "      <td>121</td>\n",
       "      <td>0</td>\n",
       "      <td>False</td>\n",
       "      <td>1532</td>\n",
       "      <td>15.0</td>\n",
       "      <td>28.0</td>\n",
       "      <td>25.0</td>\n",
       "      <td>10</td>\n",
       "      <td>2016</td>\n",
       "      <td>2016-05-03</td>\n",
       "      <td>22:10:00</td>\n",
       "    </tr>\n",
       "    <tr>\n",
       "      <th>4</th>\n",
       "      <td>1909</td>\n",
       "      <td>84</td>\n",
       "      <td>31</td>\n",
       "      <td>109</td>\n",
       "      <td>0</td>\n",
       "      <td>True</td>\n",
       "      <td>1523</td>\n",
       "      <td>15.0</td>\n",
       "      <td>28.0</td>\n",
       "      <td>25.0</td>\n",
       "      <td>7</td>\n",
       "      <td>2016</td>\n",
       "      <td>2016-05-03</td>\n",
       "      <td>22:00:00</td>\n",
       "    </tr>\n",
       "  </tbody>\n",
       "</table>\n",
       "</div>"
      ],
      "text/plain": [
       "   Block  IUCR  Primary Type  Location Description  Arrest  Domestic  Beat  \\\n",
       "0   6452    51             2                    17       1      True  1022   \n",
       "1  24340    51             2                   109       0      True   313   \n",
       "2  21841    42            27                   125       0     False  1524   \n",
       "3  20464    39             2                   121       0     False  1532   \n",
       "4   1909    84            31                   109       0      True  1523   \n",
       "\n",
       "   District  Ward  Community Area  FBI Code  Year        Date      Time  \n",
       "0      10.0  24.0            29.0        10  2016  2016-05-03  23:40:00  \n",
       "1       3.0  20.0            42.0        10  2016  2016-05-03  21:40:00  \n",
       "2      15.0  37.0            25.0        24  2016  2016-05-03  23:31:00  \n",
       "3      15.0  28.0            25.0        10  2016  2016-05-03  22:10:00  \n",
       "4      15.0  28.0            25.0         7  2016  2016-05-03  22:00:00  "
      ]
     },
     "execution_count": 19,
     "metadata": {},
     "output_type": "execute_result"
    }
   ],
   "source": [
    "# label encoding all categorical variables, as one-hot encoding fried my laptop :)\n",
    "from sklearn.preprocessing import LabelEncoder\n",
    "\n",
    "features_to_encode = ['Block', 'IUCR', 'Primary Type', 'Location Description', 'Arrest', 'FBI Code']\n",
    "\n",
    "label_encoder = LabelEncoder()\n",
    "\n",
    "for feature in features_to_encode:\n",
    "    df[feature] = label_encoder.fit_transform(df[feature])\n",
    "\n",
    "df.head()"
   ]
  },
  {
   "cell_type": "code",
   "execution_count": 20,
   "id": "d562887a-e8d1-48d5-87bc-a24902bacbcd",
   "metadata": {},
   "outputs": [],
   "source": [
    "# saving to a csv to work with just the clean data\n",
    "df.to_csv('clean_crime_data.csv', index = False)"
   ]
  },
  {
   "cell_type": "code",
   "execution_count": null,
   "id": "2d661f81-1e4f-425f-b516-5bfc194a1420",
   "metadata": {},
   "outputs": [],
   "source": []
  }
 ],
 "metadata": {
  "kernelspec": {
   "display_name": "Python 3 (ipykernel)",
   "language": "python",
   "name": "python3"
  },
  "language_info": {
   "codemirror_mode": {
    "name": "ipython",
    "version": 3
   },
   "file_extension": ".py",
   "mimetype": "text/x-python",
   "name": "python",
   "nbconvert_exporter": "python",
   "pygments_lexer": "ipython3",
   "version": "3.13.2"
  }
 },
 "nbformat": 4,
 "nbformat_minor": 5
}
